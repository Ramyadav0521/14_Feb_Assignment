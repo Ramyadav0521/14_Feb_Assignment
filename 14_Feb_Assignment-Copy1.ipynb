{
 "cells": [
  {
   "cell_type": "code",
   "execution_count": 1,
   "id": "a8080114-756f-4d4d-9858-f9fc42aa2d79",
   "metadata": {},
   "outputs": [],
   "source": [
    "# Q1:-What is multithreading in python? why is it used? Name the module used to handle threads in python "
   ]
  },
  {
   "cell_type": "code",
   "execution_count": 2,
   "id": "de1a4ae0-8780-415e-ae84-1f3f63cdf79e",
   "metadata": {},
   "outputs": [],
   "source": [
    "# Python Multithreading\n",
    "\n",
    "# Multithreading is a threading technique in Python programming to run multiple threads concurrently by rapidly switching between threads with a CPU help (called context switching).\n",
    "# Besides, it allows sharing of its data space with the main threads inside a process that share information and communication with other threads easier than individual processes.\n",
    "# Multithreading aims to perform multiple tasks simultaneously, which increases performance, speed and improves the rendering of the application\n",
    "\n",
    "# Benefits of Multithreading in Python\n",
    "# Following are the benefits to create a multithreaded application in Python, as follows:\n",
    "# It ensures effective utilization of computer system resources.\n",
    "# Multithreaded applications are more responsive.\n",
    "# It shares resources and its state with sub-threads (child) which makes it more economical.\n",
    "# It makes the multiprocessor architecture more effective due to similarity.\n",
    "# It saves time by executing multiple threads at the same time.\n",
    "# The system does not require too much memory to store multiple threads.\n",
    "\n",
    "\n",
    "# Methods\tDescription\n",
    "# start()\tA start() method is used to initiate the activity of a thread. And it calls only once for each thread so that the execution of the thread can begin.\n",
    "# run()\tA run() method is used to define a thread's activity and can be overridden by a class that extends the threads class.\n",
    "# join()\tA join() method is used to block the execution of another code until the thread terminates.\n",
    "\n",
    "# Import the threading module\n",
    "\n",
    "# Create a new thread by importing the threading module, as shown.\n",
    "\n",
    "# Syntax:\n",
    "\n",
    "# import threading  \n",
    "# A threading module is made up of a Thread class, which is instantiated to create a Python thread.\n",
    "# AD\n",
    "\n",
    "# 2. Declaration of the thread parameters: It contains the target function, argument, and kwargs as the parameter in the Thread() class.\n",
    "\n",
    "# Target: It defines the function name that is executed by the thread.\n",
    "# Args: It defines the arguments that are passed to the target function name.\n"
   ]
  },
  {
   "cell_type": "code",
   "execution_count": null,
   "id": "5f50c325-96a0-4af4-97f0-33fe44b43c4d",
   "metadata": {},
   "outputs": [],
   "source": []
  },
  {
   "cell_type": "code",
   "execution_count": 4,
   "id": "c2f05850-35d5-4958-86c6-4dedd949b6d2",
   "metadata": {},
   "outputs": [],
   "source": [
    "# Q2:- Why threading module used? write the use of the following functions."
   ]
  },
  {
   "cell_type": "code",
   "execution_count": 5,
   "id": "93011a6f-4161-4c3b-94f1-df812a345192",
   "metadata": {},
   "outputs": [],
   "source": [
    "# The Threading Module\n",
    "# The newer threading module included with Python 2.4 provides much more powerful, high-level support for threads than the thread module discussed in the previous section.\n",
    "\n",
    "# The threading module exposes all the methods of the thread module and provides some additional methods −\n",
    "\n",
    "# threading.activeCount() − Returns the number of thread objects that are active.\n",
    "\n",
    "# threading.currentThread() − Returns the number of thread objects in the caller's thread control.\n",
    "\n",
    "# threading.enumerate() − Returns a list of all thread objects that are currently active."
   ]
  },
  {
   "cell_type": "code",
   "execution_count": null,
   "id": "8c5a15d5-371a-4811-8406-0f20de669f06",
   "metadata": {},
   "outputs": [],
   "source": []
  },
  {
   "cell_type": "code",
   "execution_count": 8,
   "id": "65adf3c8-56c5-4432-8fd9-13d05957d83d",
   "metadata": {},
   "outputs": [],
   "source": [
    "# 3. Explain the following functions?\n",
    "# 1.run()\n",
    "# 2.Start()\n",
    "# 3.Join()\n",
    "# 4.isAlive()\n",
    "\n",
    "\n",
    "\n",
    "# In addition to the methods, the threading module has the Thread class that implements threading. The methods provided by the Thread class are as follows −\n",
    "\n",
    "# run() − The run() method is the entry point for a thread.\n",
    "\n",
    "# start() − The start() method starts a thread by calling the run method.\n",
    "\n",
    "# join([time]) − The join() waits for threads to terminate.\n",
    "\n",
    "# isAlive() − The isAlive() method checks whether a thread is still executing.\n",
    "\n",
    "# getName() − The getName() method returns the name of a thread.\n",
    "\n",
    "# setName() − The setName() method sets the name of a thread.\n",
    "# Creating Thread Using Threading Module\n",
    "# To implement a new thread using the threading module, you have to do the following −\n",
    "\n",
    "# Define a new subclass of the Thread class.\n",
    "\n",
    "# Override the __init__(self [,args]) method to add additional arguments.\n",
    "\n",
    "# Then, override the run(self [,args]) method to implement what the thread should do when started."
   ]
  },
  {
   "cell_type": "code",
   "execution_count": null,
   "id": "7738f2a5-a47f-44e3-9587-d580b8420504",
   "metadata": {},
   "outputs": [],
   "source": []
  },
  {
   "cell_type": "code",
   "execution_count": 9,
   "id": "54bf8e4c-6b4c-4318-9c9a-81aa64b94073",
   "metadata": {},
   "outputs": [],
   "source": [
    "# 4.  Write a python program to create two threads. Thread one must print the list of squares and thread \n",
    "# two must print the list of cubes."
   ]
  },
  {
   "cell_type": "code",
   "execution_count": 10,
   "id": "df34197b-bdbd-47d0-a66a-5accc1404453",
   "metadata": {},
   "outputs": [
    {
     "name": "stdout",
     "output_type": "stream",
     "text": [
      "Square: 100\n",
      "Cube: 1000\n",
      "Done!\n"
     ]
    }
   ],
   "source": [
    "# Python program to illustrate the concept\n",
    "# of threading\n",
    "# importing the threading module\n",
    "import threading\n",
    "\n",
    "\n",
    "def print_cube(num):\n",
    "\t# function to print cube of given num\n",
    "\tprint(\"Cube: {}\" .format(num * num * num))\n",
    "\n",
    "\n",
    "def print_square(num):\n",
    "\t# function to print square of given num\n",
    "\tprint(\"Square: {}\" .format(num * num))\n",
    "\n",
    "\n",
    "if __name__ ==\"__main__\":\n",
    "\t# creating thread\n",
    "\tt1 = threading.Thread(target=print_square, args=(10,))\n",
    "\tt2 = threading.Thread(target=print_cube, args=(10,))\n",
    "\n",
    "\t# starting thread 1\n",
    "\tt1.start()\n",
    "\t# starting thread 2\n",
    "\tt2.start()\n",
    "\n",
    "\t# wait until thread 1 is completely executed\n",
    "\tt1.join()\n",
    "\t# wait until thread 2 is completely executed\n",
    "\tt2.join()\n",
    "\n",
    "\t# both threads completely executed\n",
    "\tprint(\"Done!\")\n"
   ]
  },
  {
   "cell_type": "code",
   "execution_count": null,
   "id": "90962df1-cd5f-45f5-b703-ca92f2874442",
   "metadata": {},
   "outputs": [],
   "source": []
  },
  {
   "cell_type": "code",
   "execution_count": 11,
   "id": "529ae988-4eb9-4904-a043-262905f4d21b",
   "metadata": {},
   "outputs": [],
   "source": [
    "# Q5:-State advantages and disadvantages of multithreading?"
   ]
  },
  {
   "cell_type": "code",
   "execution_count": 12,
   "id": "69fe5728-e9fa-4882-bb01-3ab69ebd65a7",
   "metadata": {},
   "outputs": [],
   "source": [
    "# Advantages of Python multithreading\n",
    "#  Advantages of multithreading\n",
    "# The benefits of multithreading are as follows −\n",
    "\n",
    "# Responsiveness\n",
    "# Multithreading is an interactive application that allows a program to continue running even though the parts are blocked or is performing a lengthy operation, thereby increasing responsiveness to the user.\n",
    "\n",
    "# Resource sharing\n",
    "# Generally, a thread shares the memory and the resources of the process that it belongs to. It is allowed \n",
    "\n",
    "\n",
    "\n",
    "# Disadvantages of Multithreading\n",
    "# Here, you will learn the disadvantages of multithreading. There are various disadvantages of multithreading in the operating system, and some of the disadvantages are as follows:\n",
    "\n",
    "# It needs more careful synchronization.\n",
    "# It can consume a large space of stocks of blocked threads.\n",
    "# It needs support for thread or process.\n",
    "# If a parent process has several threads for proper process functioning, the child processes should also be multithreaded because they may be required.\n",
    "# It imposes context switching overhead.\n"
   ]
  },
  {
   "cell_type": "code",
   "execution_count": 14,
   "id": "5df7523a-cbee-4d9f-925d-08bff43a370a",
   "metadata": {},
   "outputs": [],
   "source": [
    "# Q6.:- Explain deadlocks and race conditions"
   ]
  },
  {
   "cell_type": "code",
   "execution_count": 15,
   "id": "919acf77-7601-47c0-b1e4-d2c4433ece2f",
   "metadata": {},
   "outputs": [],
   "source": [
    "# What is a Deadlock\n",
    "# A deadlock is a concurrency failure mode where a thread or threads wait for a condition that never occurs.\n",
    "\n",
    "# The result is that the deadlock threads are unable to progress and the program is stuck or frozen and must be terminated forcefully.\n",
    "\n",
    "# Common examples of the cause of threading deadlocks include:\n",
    "\n",
    "# A thread that waits on itself (e.g. attempts to acquire the same mutex lock twice).\n",
    "# Threads that wait on each other (e.g. A waits on B, B waits on A).\n",
    "# Thread that fails to release a resource (e.g. mutex lock, semaphore, barrier, condition, event, etc.).\n",
    "# Threads that acquire mutex locks in different orders (e.g. fail to perform lock ordering).\n",
    "\n",
    "\n",
    "# What is race condition in Python?\n",
    "# A race condition is a bug in concurrency programming. It is a failure case where the behavior of the program is dependent upon the order of execution by two or more threads. \n",
    "# This means, the behavior of the program will not be predictable, possibly changing each time it is run.\n"
   ]
  },
  {
   "cell_type": "code",
   "execution_count": null,
   "id": "883d761f-6051-4703-a97b-86c9305dc099",
   "metadata": {},
   "outputs": [],
   "source": []
  }
 ],
 "metadata": {
  "kernelspec": {
   "display_name": "Python 3 (ipykernel)",
   "language": "python",
   "name": "python3"
  },
  "language_info": {
   "codemirror_mode": {
    "name": "ipython",
    "version": 3
   },
   "file_extension": ".py",
   "mimetype": "text/x-python",
   "name": "python",
   "nbconvert_exporter": "python",
   "pygments_lexer": "ipython3",
   "version": "3.10.6"
  }
 },
 "nbformat": 4,
 "nbformat_minor": 5
}
